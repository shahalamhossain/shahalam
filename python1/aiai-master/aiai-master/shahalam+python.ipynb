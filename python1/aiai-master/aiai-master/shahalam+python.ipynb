{
 "cells": [
  {
   "cell_type": "markdown",
   "metadata": {},
   "source": [
    "# variable & string"
   ]
  },
  {
   "cell_type": "code",
   "execution_count": 4,
   "metadata": {},
   "outputs": [
    {
     "name": "stdout",
     "output_type": "stream",
     "text": [
      "('a=', 20)\n",
      "('a =', 'high twenty')\n"
     ]
    }
   ],
   "source": [
    "a = 20\n",
    "print (\"a=\",20)\n",
    "a = \"high twenty\"\n",
    "print (\"a =\", a)"
   ]
  },
  {
   "cell_type": "markdown",
   "metadata": {},
   "source": [
    "# variable operator"
   ]
  },
  {
   "cell_type": "code",
   "execution_count": 5,
   "metadata": {},
   "outputs": [
    {
     "name": "stdout",
     "output_type": "stream",
     "text": [
      "('x+y=', 40)\n",
      "('x-y=', 10)\n",
      "('x*y=', 375)\n",
      "('x/y=', 1)\n",
      "('x//y=', 1)\n",
      "('x%y=', 10)\n",
      "('x**y=', 931322574615478515625L)\n"
     ]
    }
   ],
   "source": [
    "x=25\n",
    "y=15\n",
    "print('x+y=',x+y)\n",
    "print('x-y=',x-y)\n",
    "print('x*y=',x*y)\n",
    "print('x/y=',x/y)\n",
    "print('x//y=',x//y)\n",
    "print('x%y=',x%y)\n",
    "print('x**y=',x**y)"
   ]
  },
  {
   "cell_type": "markdown",
   "metadata": {},
   "source": [
    "# input from user"
   ]
  },
  {
   "cell_type": "code",
   "execution_count": null,
   "metadata": {},
   "outputs": [],
   "source": [
    "inputstring = input('enter a sentence:')\n",
    "print ('the input string is :')"
   ]
  },
  {
   "cell_type": "markdown",
   "metadata": {},
   "source": [
    "# conversion"
   ]
  },
  {
   "cell_type": "code",
   "execution_count": null,
   "metadata": {},
   "outputs": [],
   "source": [
    "num_int=123\n",
    "num_int=12.3\n",
    "num_int=num_int+num_flo\n",
    "print(\"value of num_new:\",num_new)\n",
    "print(\"datatype of num_new:\",type(num_new))"
   ]
  },
  {
   "cell_type": "markdown",
   "metadata": {},
   "source": [
    "# numeric types"
   ]
  },
  {
   "cell_type": "code",
   "execution_count": null,
   "metadata": {},
   "outputs": [],
   "source": [
    "# output:<class>\n",
    "print(type(10))\n",
    "# output: <class>\n",
    "print(type(10.0))\n",
    "# <class>\n",
    "c=10+5j\n",
    "print(type(c))</class></class></class>"
   ]
  },
  {
   "cell_type": "markdown",
   "metadata": {},
   "source": [
    "# tuples"
   ]
  },
  {
   "cell_type": "code",
   "execution_count": null,
   "metadata": {},
   "outputs": [],
   "source": [
    "language = [\"franch\",\"bangladesh\",\"india\",\"pakistan\"]\n",
    "print(language[1])\n",
    "print(language[3])\n"
   ]
  },
  {
   "cell_type": "code",
   "execution_count": null,
   "metadata": {},
   "outputs": [],
   "source": [
    "my_string='hello'\n",
    "print(my_string =Hello\n",
    "     print)(my_string)"
   ]
  }
 ],
 "metadata": {
  "kernelspec": {
   "display_name": "Python 2",
   "language": "python",
   "name": "python2"
  },
  "language_info": {
   "codemirror_mode": {
    "name": "ipython",
    "version": 2
   },
   "file_extension": ".py",
   "mimetype": "text/x-python",
   "name": "python",
   "nbconvert_exporter": "python",
   "pygments_lexer": "ipython2",
   "version": "2.7.15"
  }
 },
 "nbformat": 4,
 "nbformat_minor": 2
}
