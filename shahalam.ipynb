{
 "cells": [
  {
   "cell_type": "markdown",
   "metadata": {},
   "source": [
    "# Assigning values to variable"
   ]
  },
  {
   "cell_type": "code",
   "execution_count": 1,
   "metadata": {},
   "outputs": [
    {
     "name": "stdout",
     "output_type": "stream",
     "text": [
      "100\n",
      "1000.0\n",
      "shahadat\n"
     ]
    }
   ],
   "source": [
    "counter = 100\n",
    "miles  = 1000.0\n",
    "name  = \"shahadat\"\n",
    "print (counter)\n",
    "print (miles)\n",
    "print (name)"
   ]
  },
  {
   "cell_type": "markdown",
   "metadata": {},
   "source": [
    "# strings"
   ]
  },
  {
   "cell_type": "markdown",
   "metadata": {},
   "source": [
    "str= 'shahadat!'\n",
    "print (str)\n",
    "print (str[0])\n",
    "print (str[2:5])\n",
    "print (str[2:])\n",
    "print (str*2)\n"
   ]
  },
  {
   "cell_type": "markdown",
   "metadata": {},
   "source": [
    "# lists"
   ]
  },
  {
   "cell_type": "code",
   "execution_count": 4,
   "metadata": {},
   "outputs": [
    {
     "name": "stdout",
     "output_type": "stream",
     "text": [
      "['abcd', 786, 2.23, 'shahadat', 70.2]\n",
      "abcd\n",
      "[786, 2.23]\n",
      "[2.23, 'shahadat', 70.2]\n",
      "[123, 'shahadat', 123, 'shahadat']\n",
      "['abcd', 786, 2.23, 'shahadat', 70.2, 123, 'shahadat']\n"
     ]
    }
   ],
   "source": [
    "list= ['abcd',786, 2.23, 'shahadat',70.2]\n",
    "tinylist= [123, 'shahadat']\n",
    "print (list)\n",
    "print (list[0])\n",
    "print (list[1:3])\n",
    "print (list[2:])\n",
    "print (tinylist * 2)\n",
    "print (list + tinylist)"
   ]
  },
  {
   "cell_type": "code",
   "execution_count": null,
   "metadata": {},
   "outputs": [],
   "source": []
  },
  {
   "cell_type": "code",
   "execution_count": null,
   "metadata": {},
   "outputs": [],
   "source": []
  }
 ],
 "metadata": {
  "kernelspec": {
   "display_name": "Python 3",
   "language": "python",
   "name": "python3"
  },
  "language_info": {
   "codemirror_mode": {
    "name": "ipython",
    "version": 3
   },
   "file_extension": ".py",
   "mimetype": "text/x-python",
   "name": "python",
   "nbconvert_exporter": "python",
   "pygments_lexer": "ipython3",
   "version": "3.6.4"
  }
 },
 "nbformat": 4,
 "nbformat_minor": 2
}
